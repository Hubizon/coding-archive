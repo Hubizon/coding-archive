{
 "cells": [
  {
   "cell_type": "markdown",
   "metadata": {},
   "source": [
    "# Zagadki"
   ]
  },
  {
   "cell_type": "markdown",
   "metadata": {},
   "source": [
    "## Wstęp\n",
    "Zagadki od wieków fascynują ludzi, pobudzając ich umysły do kreatywnego i logicznego myślenia. Od prostych łamigłówek po głębokie zagadki filozoficzne, stanowią one nie tylko formę rozrywki, ale również sztukę rozumienia języka i logicznego wnioskowania. W tym zadaniu będziesz rozwiązywał/a zagadki, polegające na odgadnięciu słowa na podstawie opisu. Wszystkie zagadki wymyślił ChatGPT (ale nie powiemy, która dokładnie wersja i w jaki sposób zachęcona), stąd niektóre mogą być trochę dziwne... Szacujemy, że ludzie są w stanie rozwiązać poprawnie trochę ponad 60% z nich. A jak dobry będzie Twój program?"
   ]
  },
  {
   "cell_type": "markdown",
   "metadata": {},
   "source": [
    "## Zadanie\n",
    "Napisz funckję `answer_riddle` która rozwiąże podaną na wejściu zagadkę. Rozwiązaniem jest zawsze jedno słowo. Przykładowe zagadki:\n",
    "\n",
    "- **zagadka:** kobieta podróżująca środkiem transportu, np. samolotem, pociągiem, statkiem <br>\n",
    "  **odpowiedź:** pasażerka\n",
    "- **zagadka:** emocjonalne uczucie łączące dwie osoby, oparte na zaufaniu, szacunku, trosce i oddaniu<br>\n",
    "  **odpowiedź:** miłość\n",
    "\n",
    "\n",
    "Naszym kryterium będzie `odwrócona średnia harmoniczna` ([Mean Reciprocal Rank](https://en.wikipedia.org/wiki/Mean_reciprocal_rank)), która działa w następujący sposób: <br>\n",
    "Jeżeli na zwróconej przez Twoją funkcję liście znajdzie się prawidłowa odpowiedź, otrzymasz wówczas punkty: dokładnie $\\frac{1}{k}$ punktów, gdzie $k$ jest pozycją słowa na liście. W szczególności, jeżeli Twój program zgadnie słowo (czyli umieści je na pierwszej pozycji), to otrzymasz 1 punkt. Ostatecznym kryterium jest uśredniona liczba punktów ze wszystkich zagadek.\n",
    "\n",
    "Powyższe kryterium jest zaimplementowane poniżej przez nas."
   ]
  },
  {
   "cell_type": "markdown",
   "metadata": {},
   "source": [
    "## Ograniczenia\n",
    "- Twoje finalne rozwiązanie będzie testowane w środowisku **bez** GPU.\n",
    "- Twoja funkcja powinna działać na tyle szybko, aby program był w stanie udzielić odpowiedzi na 100 zagadek w maksymalnie 2 minuty bez użycia GPU."
   ]
  },
  {
   "cell_type": "markdown",
   "metadata": {},
   "source": [
    "## Dane\n",
    "Dane dostępne dla Ciebie w tym zadaniu to:\n",
    "* `zagadki_do_testow_clean.txt` - około 2000 przykładowych zagadek\n",
    "* `plwiktionary_definitions_clean.txt` -  plik z definicjami słów wziętymi z [pl.wiktionary.org](https://pl.wiktionary.org/wiki/pl). Z wszystkich definicji z pl.wiktionary.org wzięliśmy definicje 8094 najbardziej popularnych rzeczowników (częstości liczone zgodnie z korpusem https://2018.poleval.pl/index.php/tasks#task3). Uwaga: poprawne rozwiązanie każdej zagadki znajduje się w tym pliku!\n",
    "\n",
    "* `superbazy_clean.txt` - formy bazowe polskich słów, przygotowane na podstawie projektu https://github.com/morfologik/polimorfologik\n",
    "\n",
    "* Wektory osadzeń słów bazowych, wytrenowane modelem Word2Vec z biblioteki Gensim, na korpusie PolEval 2018 Task3"
   ]
  },
  {
   "cell_type": "markdown",
   "metadata": {},
   "source": [
    "## Uwagi i wskazówki\n",
    "- Dla każdej zagadki, Twoja funkcja powinna zwrócić listę słów (co najwyżej 20), w kolejności od najbardziej (wg Twojego programu) prawdopodobnej odpowiedzi na zagadkę, do najmniej.\n",
    "- Twoje rozwiazanie bedzie testowane bez dostepu do internetu"
   ]
  },
  {
   "cell_type": "markdown",
   "metadata": {},
   "source": [
    "## Pliki Zgłoszeniowe\n",
    "Tylko ten notebook."
   ]
  },
  {
   "cell_type": "markdown",
   "metadata": {},
   "source": [
    "## Ewaluacja\n",
    "Pamiętaj, że podczas sprawdzania flaga `FINAL_EVALUATION_MODE` zostanie ustawiona na `True`. Za pomocą skryptu `validation_script.py` będziesz upewnić się, że Twoje rozwiązanie zostanie prawidłowo wykonane na naszych serwerach oceniających. \n",
    "\n",
    "Za to zadanie możesz zdobyć pomiędzy 0 i 1.5 punktu. Zdobędziesz 0 punktów jeśli wartość kryterium `mean reciprocal rank` na zbiorze testowym wyniesie poniżej 0.02, a 1.5 punktu jeśli wyniesie powyżej 0.3. Pomiędzy tymi wartościami, wynik rośnie liniowo z wartością kryterium."
   ]
  },
  {
   "cell_type": "markdown",
   "metadata": {},
   "source": [
    "# Kod startowy"
   ]
  },
  {
   "cell_type": "code",
   "execution_count": 90,
   "metadata": {},
   "outputs": [],
   "source": [
    "######################### NIE ZMIENIAJ TEJ KOMÓRKI PODCZAS WYSYŁANIA ##########################\n",
    "FINAL_EVALUATION_MODE = False\n",
    "# W czasie sprawdzania Twojego rozwiązania, zmienimy tę wartość na True\n",
    "# Wartość tej flagi M U S I zostać ustawiona na False w rozwiązaniu, które nam nadeślesz!"
   ]
  },
  {
   "cell_type": "code",
   "execution_count": 91,
   "metadata": {},
   "outputs": [],
   "source": [
    "######################### NIE ZMIENIAJ TEJ KOMÓRKI ##########################\n",
    "import nltk\n",
    "from nltk.tokenize import word_tokenize as tokenize\n",
    "from collections import defaultdict as dd\n",
    "import math\n",
    "from gensim.models import Word2Vec\n",
    "import gdown\n",
    "import random\n",
    "import os\n",
    "from tqdm import tqdm"
   ]
  },
  {
   "cell_type": "markdown",
   "metadata": {},
   "source": [
    "## Ładowanie danych"
   ]
  },
  {
   "cell_type": "code",
   "execution_count": 92,
   "metadata": {},
   "outputs": [],
   "source": [
    "######################### NIE ZMIENIAJ TEJ KOMÓRKI ##########################\n",
    "path_to_data = 'data/'\n",
    "\n",
    "bases = {}\n",
    "# Dictionary mapping words to their base words\n",
    "all_word_definitions = dd(list)\n",
    "# Dictionary containing all base words inverse document frequency\n",
    "base_idf = dd(int)"
   ]
  },
  {
   "cell_type": "code",
   "execution_count": 93,
   "metadata": {},
   "outputs": [],
   "source": [
    "######################### NIE ZMIENIAJ TEJ KOMÓRKI ##########################\n",
    "def get_word_base(word):\n",
    "    global bases\n",
    "    word = word.lower()\n",
    "    ret = bases.get(word)\n",
    "    if ret:\n",
    "        return ret\n",
    "    return word"
   ]
  },
  {
   "cell_type": "code",
   "execution_count": null,
   "metadata": {},
   "outputs": [],
   "source": [
    "######################### NIE ZMIENIAJ TEJ KOMÓRKI ##########################\n",
    "if not FINAL_EVALUATION_MODE:\n",
    "    if not os.path.exists(f\"{path_to_data}/zagadki/w2v_polish_lemmas.model\") \\\n",
    "        or not os.path.exists(f\"{path_to_data}/zagadki/w2v_polish_lemmas.model.syn1neg.npy\") \\\n",
    "        or not os.path.exists(f\"{path_to_data}/zagadki/w2v_polish_lemmas.model.wv.vectors.npy\"):\n",
    "            gdown.download_folder(url=\"https://drive.google.com/drive/folders/1P72og_ORfL3Ojf27n-g06DT0ENduPy8C?usp=sharing\", output=f\"./{path_to_data}\")\n",
    "    nltk.download('punkt')"
   ]
  },
  {
   "cell_type": "code",
   "execution_count": 95,
   "metadata": {},
   "outputs": [],
   "source": [
    "######################### NIE ZMIENIAJ TEJ KOMÓRKI ##########################\n",
    "for x in open(f'{path_to_data}/zagadki/superbazy_clean.txt'):\n",
    "    word,base = x.lower().split()\n",
    "    bases[word] = base"
   ]
  },
  {
   "cell_type": "code",
   "execution_count": 96,
   "metadata": {},
   "outputs": [],
   "source": [
    "######################### NIE ZMIENIAJ TEJ KOMÓRKI ##########################\n",
    "model = Word2Vec.load(f'{path_to_data}/zagadki/w2v_polish_lemmas.model') "
   ]
  },
  {
   "cell_type": "code",
   "execution_count": 97,
   "metadata": {},
   "outputs": [],
   "source": [
    "######################### NIE ZMIENIAJ TEJ KOMÓRKI ##########################\n",
    "for x in open(f'{path_to_data}/zagadki/plwiktionary_definitions_clean.txt'):\n",
    "    word, definition = x.split('###')\n",
    "    L = word.split()\n",
    "    if len(L) == 1:\n",
    "        word = L[0]       \n",
    "            \n",
    "        definition = set(tokenize(definition.lower()))\n",
    "        all_word_definitions[word].append(definition)\n",
    "        for word in set(definition):\n",
    "            base_idf[get_word_base(word)] += 1\n",
    "\n",
    "\n",
    "for base in base_idf:\n",
    "    base_idf[base] = -math.log(base_idf[base] / len(all_word_definitions))"
   ]
  },
  {
   "cell_type": "code",
   "execution_count": 98,
   "metadata": {},
   "outputs": [],
   "source": [
    "######################### NIE ZMIENIAJ TEJ KOMÓRKI ##########################\n",
    "answers = []\n",
    "queries = []\n",
    "\n",
    "with open(f'{path_to_data}/zagadki/zagadki_do_testow_clean.txt') as file:\n",
    "    for line in file:\n",
    "        line = line.replace(';;', '').split()                  \n",
    "        answers.append(line[0])\n",
    "        queries.append(tokenize(' '.join(line[1:])))"
   ]
  },
  {
   "cell_type": "markdown",
   "metadata": {},
   "source": [
    "## Kod z kryteriami oceniającymi"
   ]
  },
  {
   "cell_type": "code",
   "execution_count": 99,
   "metadata": {},
   "outputs": [],
   "source": [
    "######################### NIE ZMIENIAJ TEJ KOMÓRKI ##########################\n",
    "def mean_reciprocal_rank(real_answers, computed_answers, K=20):\n",
    "    positions = []\n",
    "\n",
    "    for real_answer, computed_answer in zip(real_answers, computed_answers):\n",
    "        if real_answer in computed_answer[:K]:\n",
    "            pos = computed_answer.index(real_answer) + 1\n",
    "            positions.append(1/pos)\n",
    "    \n",
    "    mrr = sum(positions) / len(real_answers)\n",
    "    print ('Mean Reciprocal Rank =', mrr)\n",
    "    \n",
    "    return mrr"
   ]
  },
  {
   "cell_type": "markdown",
   "metadata": {},
   "source": [
    "# Twoje rozwiązanie"
   ]
  },
  {
   "cell_type": "markdown",
   "metadata": {},
   "source": [
    "To jest jedyna sekcja, w której musisz coś zrobić."
   ]
  },
  {
   "cell_type": "code",
   "execution_count": 100,
   "metadata": {},
   "outputs": [],
   "source": [
    "# Hubert Jastrzębski - V LO Kraków\n",
    "\n",
    "from gensim.matutils import unitvec\n",
    "import numpy as np"
   ]
  },
  {
   "cell_type": "code",
   "execution_count": null,
   "metadata": {},
   "outputs": [],
   "source": [
    "to_train = []\n",
    "\n",
    "for key in all_word_definitions:\n",
    "    for definition in all_word_definitions[key]:\n",
    "        w_def = [key]\n",
    "        _iter = 0\n",
    "        for word in list(definition) * 6:\n",
    "            if len(word) > 1:\n",
    "                word_base = get_word_base(word)\n",
    "                w_def.append(word_base)\n",
    "                _iter += 1\n",
    "                if _iter % 15 == 0:\n",
    "                    w_def.append(key)\n",
    "        w_def.append(key)\n",
    "        to_train.append(w_def)\n",
    "\n",
    "model.build_vocab(to_train, update=True)\n",
    "model.train(to_train, total_examples=len(to_train), epochs=20)"
   ]
  },
  {
   "cell_type": "code",
   "execution_count": 102,
   "metadata": {},
   "outputs": [],
   "source": [
    "my_definitions = dict([])\n",
    "for key in all_word_definitions:\n",
    "    to_def = []\n",
    "    for defin in all_word_definitions[key]:\n",
    "        temp = []\n",
    "        for word in defin:\n",
    "            if len(word) > 1:\n",
    "                temp.append(get_word_base(word))\n",
    "        to_def.append(temp)\n",
    "    my_definitions[key] = to_def\n",
    "\n",
    "my_keys_vec = []\n",
    "for key in my_definitions:\n",
    "    my_keys_vec.append(unitvec(model.wv[key]))\n",
    "my_keys_vec = np.array(my_keys_vec)\n",
    "\n",
    "my_keys = list(my_definitions.keys())"
   ]
  },
  {
   "cell_type": "code",
   "execution_count": 103,
   "metadata": {},
   "outputs": [],
   "source": [
    "def answer_riddle(riddle, K):\n",
    "    my_riddle, my_riddle_vec = [], []\n",
    "    for word in riddle:\n",
    "        if len(word) > 1:\n",
    "            word_base = get_word_base(word)\n",
    "            my_riddle.append(word_base)\n",
    "            if word_base in model.wv.key_to_index:\n",
    "                my_riddle_vec.append(unitvec(model.wv[word_base]))\n",
    "\n",
    "    ans = np.zeros(len(my_keys_vec))\n",
    "    max_ans = 1\n",
    "    \n",
    "    for i, key in enumerate(my_definitions):\n",
    "        mcnt = 0\n",
    "        for defin in my_definitions[key]:\n",
    "            cnt = 0\n",
    "            for word in defin:\n",
    "                if word in my_riddle:\n",
    "                    cnt += 1\n",
    "            mcnt = max(mcnt, cnt)\n",
    "        max_ans = max(max_ans, mcnt)\n",
    "        ans[i] = mcnt\n",
    "\n",
    "    ans = (ans / max_ans) * 1.8\n",
    "\n",
    "    ans += np.sum(np.dot(my_keys_vec, np.array(my_riddle_vec).T), axis=1)\n",
    "\n",
    "    return np.array(my_keys)[np.argsort(ans)[::-1][:K]].tolist()"
   ]
  },
  {
   "cell_type": "markdown",
   "metadata": {},
   "source": [
    "# Ewaluacja"
   ]
  },
  {
   "cell_type": "markdown",
   "metadata": {},
   "source": [
    "Poniższy kod będzie służył ewaluacji rozwiązania. Po wysłaniu rozwiązania do nas zostanie wykonana funkcja `evaluate_algorithm(score_function, queries, answers, K)`, t.j. prawie identyczny kod jak niżej będzie się uruchamiał na katalogu danych `test_data` dostępnym tylko dla sprawdzających zadania.\n",
    "\n",
    "Upewnij się przed wysłaniem, że cały notebook wykonuje się od początku do końca bez błędów i bez ingerencji użytkownika po wykonaniu polecenia `Run All`."
   ]
  },
  {
   "cell_type": "code",
   "execution_count": 104,
   "metadata": {},
   "outputs": [],
   "source": [
    "######################### NIE ZMIENIAJ TEJ KOMÓRKI ##########################\n",
    "def evaluate_algorithm(score_function, queries, answers, K):\n",
    "    computed_answers = []\n",
    "    for query in tqdm(queries, desc=\"queries answered\"):\n",
    "        computed_answers.append(score_function(set(query), K=K))\n",
    "    score = mean_reciprocal_rank(answers, computed_answers, K=K)\n",
    "    \n",
    "    return score"
   ]
  },
  {
   "cell_type": "code",
   "execution_count": null,
   "metadata": {},
   "outputs": [],
   "source": [
    "######################### NIE ZMIENIAJ TEJ KOMÓRKI ##########################\n",
    "if not FINAL_EVALUATION_MODE:\n",
    "    PART_OF_DATA = 100\n",
    "    K = 20\n",
    "    valid_queries = queries[:PART_OF_DATA]\n",
    "    valid_answers = answers[:PART_OF_DATA]\n",
    "    score = evaluate_algorithm(answer_riddle, valid_queries, valid_answers, K=K)\n",
    "    print(f\"Score: {score}\")"
   ]
  }
 ],
 "metadata": {
  "kernelspec": {
   "display_name": "Python 3",
   "language": "python",
   "name": "python3"
  },
  "language_info": {
   "codemirror_mode": {
    "name": "ipython",
    "version": 3
   },
   "file_extension": ".py",
   "mimetype": "text/x-python",
   "name": "python",
   "nbconvert_exporter": "python",
   "pygments_lexer": "ipython3",
   "version": "3.11.0rc1"
  }
 },
 "nbformat": 4,
 "nbformat_minor": 2
}
