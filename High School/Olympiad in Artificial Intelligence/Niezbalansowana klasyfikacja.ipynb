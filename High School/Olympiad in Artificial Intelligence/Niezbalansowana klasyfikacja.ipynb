{
 "cells": [
  {
   "cell_type": "markdown",
   "metadata": {},
   "source": [
    "# Niezbalansowana klasyfikacja\n",
    "\n",
    "## Wstęp\n",
    "\n",
    "Klasyfikacja obrazów to proces przypisywania etykiety do obrazu na podstawie jego zawartości. Przykładowo, chcielibyśmy, aby nasz program komputerowy mógł rozpoznawać, czy na obrazie jest kot, pies, samochód, samolot czy może coś zupełnie innego. W dzisiejszych czasach popularnym narzędziem do rozpoznawania obrazów są tzw. sieci konwolucyjne (CNN).\n",
    "\n",
    "Sieci konwolucyjne są rodzajem sieci neuronowych, które potrafią analizować i rozpoznawać wzorce w danych wizualnych. \n",
    "\n",
    "W przypadku klasyfikacji obrazów, sieć konwolucyjna składa się z kilku warstw, w tym konwolucyjnych i poolingowych. Warstwy konwolucyjne służą do ekstrakcji cech z obrazu, następnie za pomocą warstw poolingowych zmniejszamy wymiary danych, a na końcu wykorzystujemy warstwy w pełni połączone do klasyfikacji obrazu.\n",
    "\n",
    "Progresywne zmniejszanie warstw pozwala sieciom rozpoznawać coraz to bardziej abstrakcyjne cechy jako złożenie wielu pomniejszych cech np. ptak to coś co ma dziób i jest opierzone. Dziób z kolei to np. ostry kształt o żółtawym kolorze a opierzenie oznacza pokrycie dużą ilością małych kresek.\n",
    "\n",
    "### Zadanie\n",
    "\n",
    "Zaimplementuj klasyfikator `YourCnnClassifier`, rozpoznający i klasyfikujący obrazki na dwie klasy. Powinna być to konwolucyjna sieć neuronowa napisana z użyciem pakietu `pytorch`.\n",
    "\n",
    "Twoimi danymi w tym zadaniu są obrazki w formacie \\*.jpg o wymiarze 224 x 224. Obrazki te dzielą się na dwie kategorie: *normal* oraz *onion*, którym przypisano odpowiednio etykiety 0 i 1.\n",
    "\n",
    "Obrazki z klasy *normal* przedstawiają jasnoszare figury na czarnym tle. Natomiast obrazki z klasy *onion* różnią się tym, że mają dodane ciemnoszare pasma tworzące warstwy w środku jasnoszarych figur, co upodabnia je do cebuli. Wszystkie obrazki są dodatkowo zaszumione.\n",
    "\n",
    "Publicznym interfejsem klasy `YourCnnClassifier` muszą być dwie metody ([class methods](https://stackoverflow.com/questions/12179271/meaning-of-classmethod-and-staticmethod-for-beginner) dokładnie rzecz biorąc):\n",
    "- `load` - ma wczytać parametry modelu z pliku `cnn-classifier.pth`. Tego będziemy używać podczas testowania twojego rozwiązania\n",
    "- `create_with_training` - ma wytrenować model i zapisać jego parametry do pliku `cnn-classifier.pth`.\n",
    "\n",
    "### Kryterium oceny\n",
    "\n",
    "Twoje rozwiązanie oceniane będzie na podstawie skuteczności klasyfikacji\n",
    "\n",
    "$$\n",
    "\\mathrm{score}(accuracy) = \\begin{cases}\n",
    "    0 & \\text{jeżeli } accuracy < 0.5 \\\\\n",
    "    (accuracy - 0.5) * 2 & \\text{w.p.p.}\n",
    "\\end{cases}\n",
    "$$\n",
    "\n",
    "Powyższe kryterium, klasa abstrakcyjna opisująca interfejs modelu oraz ładowanie danych, są zaimplementowane poniżej przez nas. Jednocześnie podany jest przykład trywialnego klasyfikatora, który zawsze twierdzi, że próbka jest normalna. Tym samym podczas testowania na zbalansowanym zbiorze testowym otrzymuje on 0 pkt.\n",
    "\n",
    "### Pliki zgłoszeniowe\n",
    "\n",
    "1. Ten notebook\n",
    "2. Plik zawierający wagi modelu o nazwie `cnn-classifier.pth`\n",
    "\n",
    "**Uwaga:** Zbiór danych treningowych, który dostarczamy, jest niezbalansowany, natomiast Twoje rozwiązanie testowane będzie na zbalansowanym zbiorze, aby metryka `accuracy` była miarodajna. Weź to pod uwagę podczas tworzenia swojego modelu.\n",
    "\n",
    "### Ograniczenia\n",
    "\n",
    "- Ewaluacja twojego rozwiązania (bez treningu, flaga `FINAL_EVALUATION_MODE` ustawiona na `True`) na 50 przykładach testowych powinna trwać nie dłużej niż 2 minuty na Google Colab **bez** GPU.\n",
    "- Wykonanie skryptu na Google Colab **bez** GPU z flagą `FINAL_EVALUATION_MODE` ustawioną na `False` powinno wytrenować model i wygenerować plik z wagami w nie więcej niż 15 minut.\n",
    "- Rozmiar pliku `cnn-classifier.pth` nie powienien przekroczyć 35MB.\n",
    "\n",
    "## Ewaluacja\n",
    "\n",
    "Pamiętaj, że podczas sprawdzania flaga `FINAL_EVALUATION_MODE` zostanie ustawiona na `True`. Za pomocą skryptu `validation_script.py` możesz upewnić się, że Twoje rozwiązanie zostanie prawidłowo wykonane na naszych serwerach oceniających. \n",
    "\n",
    "Za to zadanie możesz zdobyć pomiędzy 0 i 1 punktów. Liczba punktów, które zdobędziesz będzie równa wartości `score`, wyliczonej na zbiorze testowym."
   ]
  },
  {
   "cell_type": "markdown",
   "metadata": {},
   "source": [
    "# Kod startowy"
   ]
  },
  {
   "cell_type": "code",
   "execution_count": 13,
   "metadata": {},
   "outputs": [],
   "source": [
    "######################### NIE ZMIENIAJ TEJ KOMÓRKI PODCZAS WYSYŁANIA ##########################\n",
    "\n",
    "FINAL_EVALUATION_MODE = False\n",
    "# W czasie sprawdzania Twojego rozwiązania, zmienimy tę wartość na True\n",
    "# Wartość tej flagi M U S I zostać ustawiona na False w rozwiązaniu, które nam nadeślesz!"
   ]
  },
  {
   "cell_type": "code",
   "execution_count": 14,
   "metadata": {},
   "outputs": [],
   "source": [
    "######################### NIE ZMIENIAJ TEJ KOMÓRKI PODCZAS WYSYŁANIA ##########################\n",
    "\n",
    "import abc\n",
    "import os\n",
    "\n",
    "import glob\n",
    "import gdown\n",
    "import numpy as np\n",
    "import torch\n",
    "import torch.nn as nn\n",
    "import torch.optim as optim\n",
    "import torchvision\n",
    "import matplotlib.pyplot as plt\n",
    "import zipfile"
   ]
  },
  {
   "cell_type": "markdown",
   "metadata": {},
   "source": [
    "## Ładowanie danych"
   ]
  },
  {
   "cell_type": "code",
   "execution_count": 15,
   "metadata": {},
   "outputs": [],
   "source": [
    "######################### NIE ZMIENIAJ TEJ KOMÓRKI PODCZAS WYSYŁANIA ##########################\n",
    "\n",
    "GDRIVE_DATA = [\n",
    "    (\"1bR87z7ZI3gLK0vAGkyr_cnVGZ9P9bO7A\", \"train_data.zip\"),\n",
    "    (\"1TA0lWnjJCv3lyRMML4JNHsJz3RJ-TUwZ\", \"valid_data.zip\"),\n",
    "]\n",
    "\n",
    "def download_data():\n",
    "    for file_id, zip_name in GDRIVE_DATA:\n",
    "        folder_name = zip_name.split(\".\")[0]\n",
    "        if not os.path.exists(folder_name):\n",
    "            url = f'https://drive.google.com/uc?id={file_id}'\n",
    "            gdown.download(url, output=zip_name, quiet=True)\n",
    "            with zipfile.ZipFile(zip_name, 'r') as zip_ref:\n",
    "                    zip_ref.extractall(folder_name)\n",
    "            os.remove(zip_name)\n",
    "\n",
    "download_data()\n",
    "\n",
    "class ImageDataset(torch.utils.data.Dataset):\n",
    "    \"\"\"Implementacja abstrakcji zbioru danych z torch'a.\"\"\"\n",
    "    def __init__(self, dataset_type: str):\n",
    "        self.filelist = glob.glob(f\"{dataset_type}_data/*\")\n",
    "        self.labels   = [0 if \"normal\" in path else 1 for path in self.filelist]\n",
    "\n",
    "    def __len__(self):\n",
    "        return len(self.filelist)\n",
    "\n",
    "    def __getitem__(self, idx) -> tuple[torch.Tensor, int]:\n",
    "        if torch.is_tensor(idx):\n",
    "            idx = idx.tolist()\n",
    "        image = torchvision.transforms.functional.to_tensor(plt.imread(self.filelist[idx])[:,:,0])\n",
    "        label = self.labels[idx]\n",
    "        return image, label\n",
    "    \n",
    "    def loader(self, **kwargs) -> torch.utils.data.DataLoader:\n",
    "        \"\"\"\n",
    "        Stwórz, `DataLoader`'a dla aktualnego zbioru danych.\n",
    "\n",
    "        Wszystkie `**kwargs` zostaną przekazane do konstruktora `torch.utils.data.DataLoader`.\n",
    "        `DataLoader`'y w skrócie to abstrakcja ładowania danych usdostępniająca wygodny interfejs.\n",
    "        Możesz dowiedzieć się o nich więcej tutaj: https://pytorch.org/docs/stable/data.html#torch.utils.data.DataLoader\n",
    "        \"\"\"\n",
    "        return torch.utils.data.DataLoader(self, **kwargs)\n",
    "    \n",
    "train_dataset: ImageDataset = ImageDataset(\"train\")\n",
    "valid_dataset: ImageDataset = ImageDataset(\"valid\")"
   ]
  },
  {
   "cell_type": "markdown",
   "metadata": {},
   "source": [
    "## Kod z kryterium oceniającym"
   ]
  },
  {
   "cell_type": "code",
   "execution_count": 16,
   "metadata": {},
   "outputs": [],
   "source": [
    "######################### NIE ZMIENIAJ TEJ KOMÓRKI PODCZAS WYSYŁANIA ##########################\n",
    "\n",
    "def accuracy_to_points(accuracy: float) -> float:\n",
    "    \"\"\"Oblicz wynik na podstawie celności predykcji.\"\"\"\n",
    "    return (round(accuracy, 2) - 0.5) * 2 if accuracy > 0.5 else 0.0\n",
    "\n",
    "def grade(model):\n",
    "    \"\"\"Oceń ile punktów otrzyma aktualne zadanie.\"\"\"\n",
    "    model.eval()\n",
    "    test_loader = valid_dataset.loader()\n",
    "    correct = 0\n",
    "    total = 0\n",
    "    with torch.no_grad():\n",
    "        for [images, labels] in test_loader:\n",
    "            outputs = model(images).squeeze()\n",
    "            incorrect_indices = torch.where((outputs > 0.5).int() != labels)[0]\n",
    "            correct += len(labels) - len(incorrect_indices)\n",
    "            total += len(labels)\n",
    "        accuracy = correct / total if total != 0 else 0\n",
    "        if not FINAL_EVALUATION_MODE:\n",
    "            print(f\"Accuracy: {int(round(accuracy, 2) * 100)}%\")\n",
    "        return accuracy_to_points(accuracy)"
   ]
  },
  {
   "cell_type": "markdown",
   "metadata": {},
   "source": [
    "## Publiczny interfejs rozwiązania\n",
    "\n",
    "Tylko tego wymagamy od Twojej klasy, w Twoim rozwiązaniu możesz modyfikować swoją klasę do woli dodając nowe metody oraz atrybuty klasy - cokolwiek co będzie Ci potrzebne do rozwiązania zadania."
   ]
  },
  {
   "cell_type": "code",
   "execution_count": 17,
   "metadata": {},
   "outputs": [],
   "source": [
    "######################### NIE ZMIENIAJ TEJ KOMÓRKI PODCZAS WYSYŁANIA ##########################\n",
    "\n",
    "class CnnClassifier(torch.nn.Module, abc.ABC):\n",
    "    MODEL_PATH: str = \"cnn-classifier.pth\"\n",
    "    \n",
    "    @classmethod\n",
    "    def load(cls):\n",
    "        \"\"\"Załaduj model z pliku.\"\"\"\n",
    "        model = cls()\n",
    "        model.load_state_dict(torch.load(cls.MODEL_PATH))\n",
    "        return model\n",
    "\n",
    "\n",
    "    @classmethod\n",
    "    @abc.abstractmethod\n",
    "    def create_with_training(cls):\n",
    "        \"\"\"Zapisz model do pliku.\"\"\"\n",
    "        pass"
   ]
  },
  {
   "cell_type": "markdown",
   "metadata": {},
   "source": [
    "## Przykładowe rozwiązanie\n",
    "Poniżej prezentujemy proste rozwiązanie, które w oczywisty sposób nie jest optymalne. Służy temu, aby było wiadomo w jaki sposób ma działać cały notatnik."
   ]
  },
  {
   "cell_type": "code",
   "execution_count": null,
   "metadata": {},
   "outputs": [],
   "source": [
    "######################### NIE ZMIENIAJ TEJ KOMÓRKI PODCZAS WYSYŁANIA ##########################\n",
    "\n",
    "if not FINAL_EVALUATION_MODE:\n",
    "    class DummyCnnClassifier(CnnClassifier):\n",
    "        def forward(self, x):\n",
    "            batch_size, *_ = x.shape\n",
    "            return torch.zeros(batch_size)\n",
    "        \n",
    "        @classmethod\n",
    "        def create_with_training(cls):\n",
    "            return cls()\n",
    "    \n",
    "    dummy_model = DummyCnnClassifier.create_with_training()\n",
    "    print(f\"DummyCnnClassifier -- Ocena: {grade(dummy_model)} pkt\")\n",
    "\n",
    "    del dummy_model\n",
    "    del DummyCnnClassifier"
   ]
  },
  {
   "cell_type": "markdown",
   "metadata": {},
   "source": [
    "# Twoje Rozwiązanie"
   ]
  },
  {
   "cell_type": "code",
   "execution_count": null,
   "metadata": {},
   "outputs": [],
   "source": [
    "# Hubert Jastrzębski - V LO Kraków\n",
    "\n",
    "from torch.utils.data import DataLoader, WeightedRandomSampler\n",
    "import torch.nn.functional as F\n",
    "\n",
    "np.random.seed(42)\n",
    "torch.manual_seed(42)"
   ]
  },
  {
   "cell_type": "code",
   "execution_count": 20,
   "metadata": {},
   "outputs": [],
   "source": [
    "class YourCnnClassifier(CnnClassifier):\n",
    "    def __init__(self):\n",
    "        super(YourCnnClassifier, self).__init__()\n",
    "        self.conv1 = nn.Conv2d(1, 4, kernel_size=3, padding=\"same\")\n",
    "        self.conv2 = nn.Conv2d(4, 8, kernel_size=3, padding=\"same\")\n",
    "        self.pool = nn.MaxPool2d(kernel_size=2, stride=2)\n",
    "        self.fc1 = nn.Linear(8 * 56 * 56, 1)  \n",
    "\n",
    "    def forward(self, x):\n",
    "        x = self.pool(F.relu(self.conv1(x)))\n",
    "        x = self.pool(F.relu(self.conv2(x)))\n",
    "        x = x.view(-1, 8 * 56 * 56) \n",
    "        x = torch.sigmoid(self.fc1(x)) \n",
    "        return x.squeeze(1)\n",
    "\n",
    "    @classmethod\n",
    "    def create_with_training(cls):\n",
    "        # hyperparameters\n",
    "        learning_rate = 0.001\n",
    "        epochs_num = 10\n",
    "\n",
    "        model = YourCnnClassifier()\n",
    "        loss_fn = nn.BCELoss()\n",
    "        optimizer = optim.Adam(model.parameters(), lr=learning_rate)\n",
    "        \n",
    "        # creating data loader\n",
    "        class_counts = [train_dataset.labels.count(0), train_dataset.labels.count(1)]\n",
    "        num_samples = len(train_dataset.labels)\n",
    "        class_weights = [num_samples / class_counts[i] for i in range(len(class_counts))]\n",
    "        weights = [class_weights[train_dataset.labels[i]] for i in range(num_samples)]\n",
    "        sampler = WeightedRandomSampler(torch.DoubleTensor(weights), num_samples)\n",
    "        trainloader = DataLoader(train_dataset, batch_size=32, sampler=sampler)\n",
    "\n",
    "        # training the model\n",
    "        for epoch in range(epochs_num): \n",
    "\n",
    "            \"\"\"running_loss = 0.0\"\"\"\n",
    "            for i, data in enumerate(trainloader, 0):\n",
    "                inputs, labels = data\n",
    "\n",
    "                optimizer.zero_grad()\n",
    "\n",
    "                outputs = model(inputs)\n",
    "                loss = loss_fn(outputs, labels.float())\n",
    "                loss.backward()\n",
    "                optimizer.step()\n",
    "\n",
    "        # saving the model\n",
    "        torch.save(model.state_dict(), cls.MODEL_PATH)\n",
    "\n",
    "        return model"
   ]
  },
  {
   "cell_type": "code",
   "execution_count": 21,
   "metadata": {},
   "outputs": [],
   "source": [
    "######################### NIE ZMIENIAJ TEJ KOMÓRKI PODCZAS WYSYŁANIA ##########################\n",
    "\n",
    "your_model = YourCnnClassifier.load() if FINAL_EVALUATION_MODE else YourCnnClassifier.create_with_training()"
   ]
  },
  {
   "cell_type": "markdown",
   "metadata": {},
   "source": [
    "# Ewaluacja"
   ]
  },
  {
   "cell_type": "code",
   "execution_count": 22,
   "metadata": {},
   "outputs": [],
   "source": [
    "######################### NIE ZMIENIAJ TEJ KOMÓRKI PODCZAS WYSYŁANIA ##########################\n",
    "\n",
    "def evaluate_model(model):\n",
    "    \"\"\"Oceń ile punktów otrzyma aktualne zadanie.\"\"\"\n",
    "    return grade(model)"
   ]
  },
  {
   "cell_type": "code",
   "execution_count": null,
   "metadata": {},
   "outputs": [],
   "source": [
    "######################### NIE ZMIENIAJ TEJ KOMÓRKI PODCZAS WYSYŁANIA ##########################\n",
    "\n",
    "if not FINAL_EVALUATION_MODE:\n",
    "    print(f\"YourCnnClassifier -- Ocena: {evaluate_model(your_model):.2f} pkt\")"
   ]
  }
 ],
 "metadata": {
  "colab": {
   "provenance": []
  },
  "kernelspec": {
   "display_name": "Python 3 (ipykernel)",
   "language": "python",
   "name": "python3"
  },
  "language_info": {
   "codemirror_mode": {
    "name": "ipython",
    "version": 3
   },
   "file_extension": ".py",
   "mimetype": "text/x-python",
   "name": "python",
   "nbconvert_exporter": "python",
   "pygments_lexer": "ipython3",
   "version": "3.11.0rc1"
  }
 },
 "nbformat": 4,
 "nbformat_minor": 4
}
