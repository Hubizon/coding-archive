{
 "cells": [
  {
   "cell_type": "code",
   "execution_count": 1,
   "metadata": {},
   "outputs": [],
   "source": [
    "import torch \n",
    "import numpy as np "
   ]
  },
  {
   "cell_type": "code",
   "execution_count": null,
   "metadata": {},
   "outputs": [],
   "source": [
    "# creating tensors\n",
    "\n",
    "t = torch.tensor([0., 1, 2], requires_grad=True)\n",
    "print(t.dtype, t.type())\n",
    "\n",
    "t = torch.tensor([0, 1, 2], dtype=torch.float)\n",
    "print(t.dtype, t.type())\n",
    "\n",
    "t = torch.FloatTensor([0, 1, 2])\n",
    "print(t.dtype, t.type())\n",
    "\n",
    "t = torch.zeros(3, dtype=torch.bool) # the same with ones\n",
    "print(t.dtype, t.type())\n",
    "\n",
    "t = torch.ones_like(t) # the same with zeros_like, empty_like, full_like\n",
    "print(t.dtype, t.type())\n",
    "\n",
    "t = torch.empty((1, 1, 2), dtype=torch.complex128)\n",
    "print(t.dtype, t.type())\n",
    "\n",
    "t = torch.full((2, 4), 3, dtype=torch.uint8)\n",
    "print(t.dtype, t.type())\n",
    "\n",
    "t = torch.rand(3)\n",
    "print(t.dtype, t.type())"
   ]
  },
  {
   "cell_type": "code",
   "execution_count": null,
   "metadata": {},
   "outputs": [],
   "source": [
    "# add dimension\n",
    "\n",
    "t = torch.rand((3, 5))\n",
    "t2 = t[:, None, :]\n",
    "print(t.shape, t2.shape)"
   ]
  },
  {
   "cell_type": "code",
   "execution_count": null,
   "metadata": {},
   "outputs": [],
   "source": [
    "# linspace\n",
    "\n",
    "t = torch.linspace(0, 3, 6, dtype=torch.int)\n",
    "print(t)\n",
    "\n",
    "t = torch.linspace(0, np.pi, 3)\n",
    "print(t, torch.sin(t))"
   ]
  },
  {
   "cell_type": "code",
   "execution_count": null,
   "metadata": {},
   "outputs": [],
   "source": [
    "# changing type\n",
    "\n",
    "t = t.type(torch.int64)\n",
    "print(t.dtype, t.type())\n",
    "\n",
    "t = t.float()\n",
    "print(t.dtype, t.type())\n",
    "\n",
    "t = t.int()\n",
    "print(t.dtype, t.type())"
   ]
  },
  {
   "cell_type": "code",
   "execution_count": null,
   "metadata": {},
   "outputs": [],
   "source": [
    "# accessing elements\n",
    "\n",
    "print(t.size(), t.shape, t.ndimension())\n",
    "print(t[0], t[0].item())"
   ]
  },
  {
   "cell_type": "code",
   "execution_count": null,
   "metadata": {},
   "outputs": [],
   "source": [
    "# reshaping\n",
    "\n",
    "print(t.view(-1, 1))"
   ]
  },
  {
   "cell_type": "code",
   "execution_count": null,
   "metadata": {},
   "outputs": [],
   "source": [
    "# from and to numpy\n",
    "\n",
    "print(\"to python list\")\n",
    "print(t.tolist())\n",
    "\n",
    "print(\"from numpy:\")\n",
    "npa = np.array([0, 1, 2, 3])\n",
    "t = torch.from_numpy(npa)\n",
    "print(t)\n",
    "\n",
    "print(\"back to numpy:\")\n",
    "npa2 = t.numpy()\n",
    "print(npa2)\n",
    "\n",
    "print(\"they still point to the same array!\")\n",
    "npa[:] += 3\n",
    "print(t, npa2)"
   ]
  },
  {
   "cell_type": "code",
   "execution_count": null,
   "metadata": {},
   "outputs": [],
   "source": [
    "# some basic functions\n",
    "\n",
    "print(\"mean, std, min, max, sum (mean and std - only float)\")\n",
    "print(t.float().mean(), t.float().std(), t.min(), t.max(), t.sum())\n",
    "\n",
    "print(\"addition, substraction\")\n",
    "a = torch.tensor([0, 1, 2, 3], dtype=torch.int)\n",
    "b = torch.tensor([1, 10, 50, 100], dtype=torch.float)\n",
    "print(a + b, a - b, a + 3)\n",
    "\n",
    "print(\"multiplication\")\n",
    "print(a * b, a * 3)\n",
    "print(a * b.view(-1, 1))\n",
    "\n",
    "print(\"dot product (same types)\")\n",
    "print(torch.dot(a, b.int()), a @ b.int())\n",
    "\n",
    "print(\"matrix multiplication\")\n",
    "a = torch.tensor([[0, 1, 1], [1, 0, 1]])\n",
    "b = torch.tensor([[1, 1], [1, 1], [-1, 1]])\n",
    "print(torch.mm(a, b))"
   ]
  },
  {
   "cell_type": "code",
   "execution_count": null,
   "metadata": {},
   "outputs": [],
   "source": [
    "# derivatives\n",
    "\n",
    "x = torch.tensor(2., requires_grad=True)\n",
    "y = x**2 + 2*x + 1\n",
    "y.backward()\n",
    "print(x, y, x.grad)\n",
    "\n",
    "x = torch.linspace(-10, 10, 6, requires_grad=True)\n",
    "y = torch.sum(x**3)\n",
    "y.backward()\n",
    "print(x.grad)"
   ]
  },
  {
   "cell_type": "code",
   "execution_count": null,
   "metadata": {},
   "outputs": [],
   "source": [
    "# partial derivatives\n",
    "\n",
    "a = torch.tensor(1., requires_grad=True)\n",
    "b = torch.tensor(2., requires_grad=True)\n",
    "f = a*b + a**2\n",
    "f.backward()\n",
    "print(a.grad, b.grad)"
   ]
  },
  {
   "cell_type": "code",
   "execution_count": null,
   "metadata": {},
   "outputs": [],
   "source": []
  }
 ],
 "metadata": {
  "kernelspec": {
   "display_name": ".venv",
   "language": "python",
   "name": "python3"
  },
  "language_info": {
   "codemirror_mode": {
    "name": "ipython",
    "version": 3
   },
   "file_extension": ".py",
   "mimetype": "text/x-python",
   "name": "python",
   "nbconvert_exporter": "python",
   "pygments_lexer": "ipython3",
   "version": "3.10.12"
  }
 },
 "nbformat": 4,
 "nbformat_minor": 2
}
