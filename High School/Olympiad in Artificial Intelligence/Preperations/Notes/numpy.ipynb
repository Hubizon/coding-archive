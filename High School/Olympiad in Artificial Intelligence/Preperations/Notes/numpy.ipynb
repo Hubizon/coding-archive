{
 "cells": [
  {
   "cell_type": "code",
   "execution_count": 1,
   "metadata": {},
   "outputs": [],
   "source": [
    "import numpy as np\n",
    "\n",
    "np.random.seed(42)"
   ]
  },
  {
   "cell_type": "code",
   "execution_count": null,
   "metadata": {},
   "outputs": [],
   "source": [
    "# creating numpy arrays\n",
    "\n",
    "a = np.array([1, 2])\n",
    "a = np.append(a, 4)\n",
    "print(a)\n",
    "\n",
    "a = np.zeros(3) # the same with ones\n",
    "print(a)\n",
    "\n",
    "a = np.empty((2, 3), dtype=np.chararray)\n",
    "print(a)\n",
    "\n",
    "a = np.full((1, 1, 3), 9)\n",
    "print(a)\n",
    "\n",
    "a = np.zeros_like(a) # the same with ones_like, empty_like, full_like\n",
    "print(a)\n",
    "\n",
    "a = np.arange(6, dtype=np.float32)\n",
    "print(a)\n",
    "\n",
    "a = np.random.randint(10, size=(3, 5))\n",
    "print(a)"
   ]
  },
  {
   "cell_type": "code",
   "execution_count": null,
   "metadata": {},
   "outputs": [],
   "source": [
    "# changing type\n",
    "\n",
    "a = a.astype(np.int8)\n",
    "print(a, a.dtype)"
   ]
  },
  {
   "cell_type": "code",
   "execution_count": null,
   "metadata": {},
   "outputs": [],
   "source": [
    "# accessing elements\n",
    "\n",
    "print(a.ndim, a.shape, a.size)\n",
    "print(a[0], a[:, -1], a[0, 4:1:-2])\n",
    "print(a[::-1, 2::-1])"
   ]
  },
  {
   "cell_type": "code",
   "execution_count": null,
   "metadata": {},
   "outputs": [],
   "source": [
    "# copy\n",
    "\n",
    "b = a.copy()\n",
    "print(b)"
   ]
  },
  {
   "cell_type": "code",
   "execution_count": null,
   "metadata": {},
   "outputs": [],
   "source": [
    "# reshape\n",
    "\n",
    "print(\"reshape\")\n",
    "print(b.reshape((-1)))\n",
    "print(np.arange(5, 11).reshape((2, -1)))\n",
    "\n",
    "print(\"new axis\")\n",
    "print(b[np.newaxis, :])"
   ]
  },
  {
   "cell_type": "code",
   "execution_count": null,
   "metadata": {},
   "outputs": [],
   "source": [
    "# concatenate - same dimensions\n",
    "print(np.concatenate([a, b - 5])) # = vstack()\n",
    "print(np.concatenate([a, b - 5], axis=-1)) # = hstack()"
   ]
  },
  {
   "cell_type": "code",
   "execution_count": null,
   "metadata": {},
   "outputs": [],
   "source": [
    "# splitting array\n",
    "\n",
    "a = np.arange(10)\n",
    "print(np.split(a, [3, 7]))\n",
    "\n",
    "a = np.arange(16).reshape(4, 4)\n",
    "print(np.split(a, [2])) # = vsplit()\n",
    "print(np.split(a, [2], axis=-1)) # = hsplit()"
   ]
  },
  {
   "cell_type": "code",
   "execution_count": null,
   "metadata": {},
   "outputs": [],
   "source": [
    "# some basic functions\n",
    "\n",
    "print(\"mean, std, min, max, sum\")\n",
    "print(a.mean(), a.std(), a.min(), a.max(), a.sum())\n",
    "\n",
    "print(\"addition, substraction\")\n",
    "a, b = np.arange(5), np.arange(5) + 3\n",
    "print(a + b, a - b, a + 3)\n",
    "\n",
    "print(\"multiplication\")\n",
    "print(a * b, a * 3)\n",
    "print(a * b.reshape(-1, 1))\n",
    "\n",
    "print(\"dot product\")\n",
    "print(np.dot(a, b), a @ b)\n",
    "\n",
    "print(\"matrix multiplication\")\n",
    "a = np.array([[0, 1, 1], [1, 0, 1]])\n",
    "b = np.array([[1, 1], [1, 1], [-1, 1]])\n",
    "print(np.matmul(a, b))"
   ]
  },
  {
   "cell_type": "code",
   "execution_count": null,
   "metadata": {},
   "outputs": [],
   "source": []
  }
 ],
 "metadata": {
  "kernelspec": {
   "display_name": ".venv",
   "language": "python",
   "name": "python3"
  },
  "language_info": {
   "codemirror_mode": {
    "name": "ipython",
    "version": 3
   },
   "file_extension": ".py",
   "mimetype": "text/x-python",
   "name": "python",
   "nbconvert_exporter": "python",
   "pygments_lexer": "ipython3",
   "version": "3.10.12"
  }
 },
 "nbformat": 4,
 "nbformat_minor": 2
}
