{
 "cells": [
  {
   "cell_type": "code",
   "execution_count": 1,
   "metadata": {},
   "outputs": [
    {
     "name": "stdout",
     "output_type": "stream",
     "text": [
      "create a list\n",
      "['a', 6, 0.3, 4, 'b'] ['a', 0.3]\n",
      "add something to a list\n",
      "['a', 6, 'c', 0.3, 4, 'b', 10, 'a', 'c', 4, 10]\n",
      "remove an element / last element\n",
      "['a', 6, 0.3, 4, 'b', 10, 'a', 'c', 4]\n",
      "delete a specific element\n",
      "['a', 0.3, 4, 'b', 10, 'a', 'c', 4]\n",
      "iterate over a list and sort it\n",
      "[10, 4, 4, 0.3]\n",
      "[[1, 5], [5, 5], [9, 3]]\n",
      "copy and join lists\n",
      "[[1, 5], [5, 5], [9, 3], [1, 5], [5, 5], [9, 3]]\n",
      "elements with specific value\n",
      "2 1\n"
     ]
    }
   ],
   "source": [
    "# lists\n",
    "\n",
    "print(\"create a list\")\n",
    "list1 = [\"a\", 6, 0.3, 4, 'b']\n",
    "print(list1, list1[:-1:2])\n",
    "\n",
    "print(\"add something to a list\")\n",
    "list1.append(10)\n",
    "list1.insert(2, 'c')\n",
    "list1.extend(list1[::2]) \n",
    "print(list1)\n",
    "\n",
    "print(\"remove an element / last element\")\n",
    "list1.remove('c')\n",
    "list1.pop()\n",
    "print(list1)\n",
    "\n",
    "print(\"delete a specific element\")\n",
    "del list1[1]\n",
    "print(list1)\n",
    "\n",
    "print(\"iterate over a list and sort it\")\n",
    "list1 = [element for element in list1 if type(element) != str]\n",
    "list1.sort(reverse=True)\n",
    "print(list1)\n",
    "\n",
    "list1 = [[1, 5], [9, 3], [5, 5]]\n",
    "list1.sort(key=lambda x: -x[1])\n",
    "print(list1)\n",
    "\n",
    "print(\"copy and join lists\")\n",
    "list2 = list1.copy()\n",
    "list1 = list1 + list2\n",
    "print(list1)\n",
    "\n",
    "print(\"elements with specific value\")\n",
    "print(list1.count([5, 5]), list1.index([5, 5]))\n",
    "\n",
    "list1.clear() # empties a list\n",
    "del list1 # deletes a list"
   ]
  },
  {
   "cell_type": "code",
   "execution_count": 2,
   "metadata": {},
   "outputs": [
    {
     "name": "stdout",
     "output_type": "stream",
     "text": [
      "create a tuple\n",
      "('a', 6, 0.3, 4, 'b')\n",
      "change a tuple\n",
      "('a', 6, 'c', 4, 'b')\n",
      "add tuples\n",
      "('a', 6, 0.3, 4, 'b', 'a', 6, 'c', 4, 'b')\n",
      "elements with specific value\n",
      "2 4\n"
     ]
    }
   ],
   "source": [
    "# tuples\n",
    "\n",
    "print(\"create a tuple\")\n",
    "tuple1 = (\"a\", 6, 0.3, 4, 'b')\n",
    "print(tuple1)\n",
    "\n",
    "print(\"change a tuple\")\n",
    "temp = list(tuple1)\n",
    "temp[2] = 'c'\n",
    "tuple2 = tuple(temp)\n",
    "print(tuple2)\n",
    "\n",
    "print(\"add tuples\")\n",
    "tuple1 = tuple1 + tuple2\n",
    "print(tuple1)\n",
    "\n",
    "print(\"elements with specific value\")\n",
    "print(tuple1.count('a'), tuple1.index('b'))"
   ]
  },
  {
   "cell_type": "code",
   "execution_count": 3,
   "metadata": {},
   "outputs": [
    {
     "name": "stdout",
     "output_type": "stream",
     "text": [
      "create a set\n",
      "{0.3, 4, 6, 'a', 'b'}\n",
      "change a set\n",
      "{0.3, 4, 5, 6, 'a', 'c', 'b'}\n",
      "remove an element\n",
      "0.3\n",
      "{4, 5, 6, 'a', 'c'}\n",
      "subsets and other operations\n",
      "True True True\n",
      "True {5} {10}\n",
      "{4, 5, 6, 10, 'a', 'c'}\n"
     ]
    }
   ],
   "source": [
    "# sets\n",
    "\n",
    "print(\"create a set\")\n",
    "set1 = { \"a\", 6, 0.3, 4, 'b' }\n",
    "print(set1)\n",
    "\n",
    "print(\"change a set\")\n",
    "set1.add('c')\n",
    "set1.update([4, 5, 6])\n",
    "print(set1)\n",
    "\n",
    "print(\"remove an element\")\n",
    "set1.remove('b') # if the item doesn't exist - error\n",
    "set1.discard('b') # no error\n",
    "print(set1.pop()) # delete a random item\n",
    "print(set1)\n",
    "\n",
    "print(\"subsets and other operations\")\n",
    "set2, set3 = { 4, 'a' }, { 5, 10 }\n",
    "print(set1.issuperset(set2), set2.issubset(set1), set1 >= set2)\n",
    "print(set2.isdisjoint(set3), set1 & set3, set3 - set1)\n",
    "print(set1 | set3)"
   ]
  },
  {
   "cell_type": "code",
   "execution_count": 4,
   "metadata": {},
   "outputs": [
    {
     "name": "stdout",
     "output_type": "stream",
     "text": [
      "create a dictionary\n",
      "{'brand': 'Ford', 'model': 'Mustang', 'year': 1964}\n",
      "{'a': 5, 'b': 5}\n",
      "access items\n",
      "Ford dict_keys(['brand', 'model', 'year']) dict_values(['Ford', 'Mustang', 1964])\n",
      "dict_items([('brand', 'Ford'), ('model', 'Mustang'), ('year', 1964)])\n",
      "1964 USA\n",
      "change items\n",
      "{'brand': 'Ford', 'model': 'Explorer', 'year': 1979, 'country': 'USA', 'size': 10}\n",
      "dele items\n",
      "('size', 10)\n",
      "{'model': 'Explorer', 'year': 1979, 'country': 'USA'}\n"
     ]
    }
   ],
   "source": [
    "# dictionaries\n",
    "\n",
    "print(\"create a dictionary\")\n",
    "dict1 = {\n",
    "    \"brand\": \"Ford\",\n",
    "    \"model\": \"Mustang\",\n",
    "    \"year\": 1964\n",
    "}\n",
    "print(dict1)\n",
    "print(dict.fromkeys(('a', 'b'), 5))\n",
    "\n",
    "print(\"access items\")\n",
    "print(dict1[\"brand\"], dict1.keys(), dict1.values())\n",
    "print(dict1.items())\n",
    "print(dict1.setdefault(\"year\"), dict1.setdefault(\"country\", \"USA\"))\n",
    "\n",
    "print(\"change items\")\n",
    "dict1[\"year\"] += 15\n",
    "dict1.update({\"model\": \"Explorer\", \"size\": 10}) \n",
    "print(dict1)\n",
    "\n",
    "print(\"dele items\")\n",
    "dict1.pop(\"brand\")\n",
    "print(dict1.popitem()) # last added\n",
    "print(dict1)"
   ]
  },
  {
   "cell_type": "code",
   "execution_count": 5,
   "metadata": {},
   "outputs": [
    {
     "name": "stdout",
     "output_type": "stream",
     "text": [
      "30\n",
      "33\n"
     ]
    }
   ],
   "source": [
    "# lambdas\n",
    "\n",
    "x = lambda a, b : a * b\n",
    "print(x(5, 6))\n",
    "\n",
    "def myfunc(n):\n",
    "  return lambda a : a * n\n",
    "mytripler = myfunc(3)\n",
    "print(mytripler(11))"
   ]
  },
  {
   "cell_type": "code",
   "execution_count": 6,
   "metadata": {},
   "outputs": [
    {
     "name": "stdout",
     "output_type": "stream",
     "text": [
      "<function <lambda> at 0x7fecb00b9b40>\n",
      "Nothing went wrong\n",
      "The 'try except' is finished\n"
     ]
    }
   ],
   "source": [
    "# try except\n",
    "\n",
    "try:\n",
    "  print(x)\n",
    "except NameError:\n",
    "  print(\"Variable x is not defined\")\n",
    "except:\n",
    "  print(\"Something else went wrong\")\n",
    "else:\n",
    "  print(\"Nothing went wrong\")\n",
    "finally:\n",
    "  print(\"The 'try except' is finished\")\n",
    "\n",
    "if False:\n",
    "    raise Exception(\"exception\")"
   ]
  },
  {
   "cell_type": "code",
   "execution_count": null,
   "metadata": {},
   "outputs": [],
   "source": []
  }
 ],
 "metadata": {
  "kernelspec": {
   "display_name": ".venv",
   "language": "python",
   "name": "python3"
  },
  "language_info": {
   "codemirror_mode": {
    "name": "ipython",
    "version": 3
   },
   "file_extension": ".py",
   "mimetype": "text/x-python",
   "name": "python",
   "nbconvert_exporter": "python",
   "pygments_lexer": "ipython3",
   "version": "3.11.9"
  }
 },
 "nbformat": 4,
 "nbformat_minor": 2
}
