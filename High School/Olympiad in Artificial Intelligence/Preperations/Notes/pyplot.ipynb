{
 "cells": [
  {
   "cell_type": "code",
   "execution_count": 1,
   "metadata": {},
   "outputs": [],
   "source": [
    "import matplotlib.pyplot as plt\n",
    "import numpy as np"
   ]
  },
  {
   "cell_type": "code",
   "execution_count": null,
   "metadata": {},
   "outputs": [],
   "source": [
    "# plot a line with default x and custom [marker, line, color]\n",
    "# markers: o, *, +, ., x, X, ...\n",
    "# lines: -, :, --, -., None\n",
    "# colors: rgbcmykw\n",
    "# ms - marker size\n",
    "\n",
    "ypoints = [3, 8, 1, 10]\n",
    "\n",
    "plt.figure(figsize=(3, 3)) # change size\n",
    "plt.plot(ypoints, 'H-.y', ms=10)\n",
    "plt.show()"
   ]
  },
  {
   "cell_type": "code",
   "execution_count": null,
   "metadata": {},
   "outputs": [],
   "source": [
    "# plot simple lines\n",
    "# ls - line style\n",
    "# lw - line width\n",
    "\n",
    "xpoints = [0, 6, 8]\n",
    "ypoints = [0, 250, 200]\n",
    "\n",
    "plt.figure(figsize=(6, 3))\n",
    "plt.plot(xpoints, ypoints, ls='-', lw=2, c='k') # only lines\n",
    "\n",
    "plt.title(\"title\")\n",
    "plt.xlabel(\"xlabel\")\n",
    "plt.ylabel(\"ylabel\")\n",
    "plt.grid(c='y', ls=':')\n",
    "\n",
    "plt.show()"
   ]
  },
  {
   "cell_type": "code",
   "execution_count": null,
   "metadata": {},
   "outputs": [],
   "source": [
    "# scatter points\n",
    "\n",
    "xpoints = np.random.randn(100)\n",
    "ypoints = np.random.randn(100)\n",
    "sizes = np.linspace(5, 100, 100)\n",
    "colors = np.linspace(0, 100, 100)\n",
    "\n",
    "plt.scatter(xpoints, ypoints, s=sizes, c=colors, alpha=0.7, cmap='jet')\n",
    "\n",
    "plt.colorbar()\n",
    "plt.show()"
   ]
  },
  {
   "cell_type": "code",
   "execution_count": null,
   "metadata": {},
   "outputs": [],
   "source": [
    "# subplot\n",
    "\n",
    "rows, columns = 2, 3\n",
    "width, height = 5, 3.3\n",
    "plt.figure(figsize=(columns * width, rows * height)) \n",
    "for i in range(rows * columns):\n",
    "    plt.subplot(rows, columns, i + 1)\n",
    "    plt.title(i)\n",
    "    plt.plot(np.random.randn(10))\n",
    "\n",
    "plt.show()"
   ]
  },
  {
   "cell_type": "code",
   "execution_count": null,
   "metadata": {},
   "outputs": [],
   "source": [
    "# bars and histograms\n",
    "\n",
    "rows, columns = 1, 3\n",
    "width, height = 5, 3.3\n",
    "plt.figure(figsize=(columns * width, rows * height)) \n",
    "\n",
    "plt.subplot(rows, columns, 1)\n",
    "plt.title('bar')\n",
    "plt.bar(['A', 'B', 'C', 'D'], [3, 8, 1, 10], color='#4CAF50', width=0.5)\n",
    "\n",
    "plt.subplot(rows, columns, 2)\n",
    "plt.title('barh')\n",
    "plt.barh(['A', 'B', 'C', 'D'], [3, 8, 1, 10], color='#AF4C50', height=0.5)\n",
    "\n",
    "plt.subplot(rows, columns, 3)\n",
    "plt.title('histogram')\n",
    "plt.hist(np.random.normal(170, 10, 250))\n",
    "\n",
    "plt.show()"
   ]
  },
  {
   "cell_type": "code",
   "execution_count": null,
   "metadata": {},
   "outputs": [],
   "source": [
    "# plotting an image\n",
    "\n",
    "def plot_image(image, vmin=0, vmax=255, width=1, height=1):\n",
    "    image = np.array(image)\n",
    "    plt.figure(figsize=(width, height)) \n",
    "    cmap = 'gray' if (image.ndim == 2 or image.shape[-1] == 1) else None\n",
    "    plt.imshow(image, cmap=cmap, vmin=vmin, vmax=vmax)\n",
    "    plt.axis(False)\n",
    "    plt.show()\n",
    "\n",
    "plot_image([[0, 0.5], [0.2, 0.3]], vmin=0, vmax=1)\n",
    "plot_image(np.random.uniform(size=(10, 10, 3)), vmax=1)"
   ]
  },
  {
   "cell_type": "code",
   "execution_count": null,
   "metadata": {},
   "outputs": [],
   "source": [
    "# plotting multiple images\n",
    "\n",
    "def plot_images(images, vmin=0, vmax=255, columns=6, width=2, height=2):\n",
    "    rows = -(-len(images) // columns)\n",
    "    plt.figure(figsize=(columns * width, rows * height)) \n",
    "    cmap = 'gray' if (images.ndim == 3 or images.shape[-1] == 1) else None\n",
    "    for i, image in enumerate(images):\n",
    "        plt.subplot(rows, columns, i + 1)\n",
    "        plt.imshow(image, vmin=vmin, vmax=vmax, cmap=cmap)\n",
    "        plt.axis(False)\n",
    "    plt.show()\n",
    "\n",
    "plot_images(np.random.randint(low=0, high=255, size=(20, 5, 5, 3)), columns=8, height=1.2, width=1.2)"
   ]
  }
 ],
 "metadata": {
  "kernelspec": {
   "display_name": ".venv",
   "language": "python",
   "name": "python3"
  },
  "language_info": {
   "codemirror_mode": {
    "name": "ipython",
    "version": 3
   },
   "file_extension": ".py",
   "mimetype": "text/x-python",
   "name": "python",
   "nbconvert_exporter": "python",
   "pygments_lexer": "ipython3",
   "version": "3.11.9"
  }
 },
 "nbformat": 4,
 "nbformat_minor": 2
}
