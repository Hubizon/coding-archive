{
 "cells": [
  {
   "cell_type": "code",
   "execution_count": 1,
   "metadata": {},
   "outputs": [],
   "source": [
    "import sklearn\n",
    "import pandas as pd\n",
    "import numpy as np\n",
    "\n",
    "from sklearn import metrics, ensemble\n",
    "from sklearn.model_selection import train_test_split, cross_val_predict\n",
    "from sklearn.model_selection import cross_val_score, GridSearchCV\n",
    "from sklearn.feature_selection import SelectKBest, chi2\n",
    "from sklearn.linear_model import LinearRegression, SGDClassifier\n",
    "from sklearn.compose import ColumnTransformer\n",
    "from sklearn.preprocessing import OneHotEncoder, StandardScaler, LabelEncoder\n",
    "from sklearn.pipeline import Pipeline\n",
    "from sklearn.impute import SimpleImputer"
   ]
  },
  {
   "cell_type": "code",
   "execution_count": null,
   "metadata": {},
   "outputs": [],
   "source": [
    "# train test split\n",
    "\n",
    "data = pd.read_csv(\"data/train.csv\")\n",
    "\n",
    "X_train, X_test = train_test_split(data, test_size=0.2, random_state=1)\n",
    "\n",
    "# alternative:\n",
    "y_data = data[\"Survived\"]\n",
    "X_data = data.drop(\"Survived\", axis=1)\n",
    "X_train, X_test, y_train, y_test = train_test_split(X_data, y_data, test_size=0.2)\n",
    "X_train.head()"
   ]
  },
  {
   "cell_type": "code",
   "execution_count": null,
   "metadata": {},
   "outputs": [],
   "source": [
    "# pipelines\n",
    "\n",
    "num_pipeline = Pipeline([\n",
    "        ('imputer', SimpleImputer(strategy=\"median\")),\n",
    "        ('std_scaler', StandardScaler()),\n",
    "    ])\n",
    "\n",
    "cat_pipeline = Pipeline([\n",
    "        ('onehot_encoder', OneHotEncoder())\n",
    "    ])\n",
    "\n",
    "num_attribs = ['Pclass', 'Age', 'SibSp', 'Parch', 'Fare']\n",
    "cat_attribs = ['Sex', 'Embarked']\n",
    "\n",
    "full_pipeline = ColumnTransformer([\n",
    "    ('num', num_pipeline, num_attribs),\n",
    "    ('cat', cat_pipeline, cat_attribs)\n",
    "])\n",
    "\n",
    "data_prepared = full_pipeline.fit_transform(X_train)\n",
    "feauture_names = full_pipeline.get_feature_names_out()\n",
    "pd.DataFrame(data_prepared, columns=feauture_names).head()"
   ]
  },
  {
   "cell_type": "code",
   "execution_count": null,
   "metadata": {},
   "outputs": [],
   "source": [
    "# label encoder\n",
    "\n",
    "le = LabelEncoder()\n",
    "le.fit([\"paris\", \"paris\", \"tokyo\", \"amsterdam\"])\n",
    "print(le.classes_)\n",
    "print(le.transform([\"tokyo\", \"tokyo\", \"paris\"]))\n",
    "print(le.inverse_transform([2, 2, 1]))"
   ]
  },
  {
   "cell_type": "code",
   "execution_count": null,
   "metadata": {},
   "outputs": [],
   "source": [
    "# linear regression\n",
    "\n",
    "X_train_reg = X_train[\"Fare\"].values.reshape(-1, 1)\n",
    "y_train_reg = X_train[\"Pclass\"].values\n",
    "\n",
    "# simple prediction\n",
    "lin_reg = LinearRegression()\n",
    "lin_reg.fit(X_train_reg, y_train_reg)\n",
    "data_predictions = lin_reg.predict(X_train_reg)\n",
    "\n",
    "# root-mean-square error, mean absolute error\n",
    "lin_rmse = np.sqrt(metrics.mean_squared_error(y_train_reg, data_predictions))\n",
    "lin_mae = metrics.mean_absolute_error(y_train_reg, data_predictions)\n",
    "print(lin_rmse, lin_mae)\n",
    "\n",
    "# cross validation\n",
    "scores = cross_val_score(lin_reg, X_train_reg, y_train_reg, scoring=\"neg_mean_squared_error\", cv=5)\n",
    "rmse_scores = np.sqrt(-scores)\n",
    "print(rmse_scores, rmse_scores.mean(), rmse_scores.std())"
   ]
  },
  {
   "cell_type": "code",
   "execution_count": null,
   "metadata": {},
   "outputs": [],
   "source": [
    "# other sklearn regression models and ensemble\n",
    "\n",
    "r1 = ensemble.AdaBoostRegressor()\n",
    "r2 = ensemble.RandomForestRegressor(n_estimators=10)\n",
    "r3 = sklearn.neighbors.KNeighborsRegressor()\n",
    "\n",
    "vot_reg = ensemble.VotingRegressor([('ab', r1), ('rf', r2), ('kn', r3)], weights=[1, 5, 2], n_jobs=-1)\n",
    "vot_reg.fit(X_train_reg, y_train_reg)\n",
    "#vot_reg.predict(X_train_reg[:15])\n",
    "\n",
    "scores = cross_val_score(vot_reg, X_train_reg, y_train_reg, scoring=\"neg_mean_squared_error\", cv=5)\n",
    "print(np.sqrt(-scores).mean())"
   ]
  },
  {
   "cell_type": "code",
   "execution_count": null,
   "metadata": {},
   "outputs": [],
   "source": [
    "# linear classifier\n",
    "\n",
    "X_train_clf = X_train[\"Fare\"].values.reshape(-1, 1)\n",
    "\n",
    "# simple prediction\n",
    "sgd_clf = SGDClassifier(random_state=1)\n",
    "sgd_clf.fit(X_train_clf, y_train)\n",
    "data_predictions = sgd_clf.predict(X_train_clf)\n",
    "\n",
    "# cross validation\n",
    "scores = cross_val_score(sgd_clf, X_train_clf, y_train, cv=5, scoring=\"accuracy\")\n",
    "print(scores)\n",
    "\n",
    "# scores of cross validation predictions\n",
    "y_train_pred = cross_val_predict(sgd_clf, X_train_clf, y_train, cv=3)\n",
    "print(metrics.confusion_matrix(y_train, y_train_pred)) # TP, TN, FP, FN\n",
    "\n",
    "print(metrics.precision_score(y_train, y_train_pred))\n",
    "print(metrics.recall_score(y_train, y_train_pred))\n",
    "print(metrics.f1_score(y_train, y_train_pred))"
   ]
  },
  {
   "cell_type": "code",
   "execution_count": null,
   "metadata": {},
   "outputs": [],
   "source": [
    "# grid search\n",
    "\n",
    "rf = ensemble.RandomForestClassifier(n_estimators=10)\n",
    "\n",
    "param_grid = [\n",
    "    { 'n_estimators': [10, 50, 100],\n",
    "      'max_depth': [5, None] },\n",
    "    { 'n_estimators': [10, 100],\n",
    "      'criterion': ['entropy', 'log_loss']  }\n",
    "  ]\n",
    "\n",
    "grid_search = GridSearchCV(rf, param_grid, cv=5, scoring='accuracy', return_train_score=True)\n",
    "grid_search.fit(X_train_clf, y_train)\n",
    "print(grid_search.best_params_, grid_search.best_estimator_)\n",
    "\n",
    "cvres = grid_search.cv_results_\n",
    "for score, params in sorted(list(zip(cvres[\"mean_test_score\"], cvres[\"params\"])), key=lambda x: -x[0]):\n",
    "    print(score, params)"
   ]
  },
  {
   "cell_type": "code",
   "execution_count": null,
   "metadata": {},
   "outputs": [],
   "source": [
    "data_prepared"
   ]
  },
  {
   "cell_type": "code",
   "execution_count": null,
   "metadata": {},
   "outputs": [],
   "source": [
    "# feature selection\n",
    "\n",
    "# input X must be non-negative\n",
    "data_prepared_kbest = abs(data_prepared)\n",
    "new_data = SelectKBest(chi2, k=5).fit_transform(data_prepared_kbest, y_train)\n",
    "new_data, new_data.shape"
   ]
  },
  {
   "cell_type": "code",
   "execution_count": null,
   "metadata": {},
   "outputs": [],
   "source": []
  }
 ],
 "metadata": {
  "kernelspec": {
   "display_name": ".venv",
   "language": "python",
   "name": "python3"
  },
  "language_info": {
   "codemirror_mode": {
    "name": "ipython",
    "version": 3
   },
   "file_extension": ".py",
   "mimetype": "text/x-python",
   "name": "python",
   "nbconvert_exporter": "python",
   "pygments_lexer": "ipython3",
   "version": "3.11.9"
  }
 },
 "nbformat": 4,
 "nbformat_minor": 2
}
