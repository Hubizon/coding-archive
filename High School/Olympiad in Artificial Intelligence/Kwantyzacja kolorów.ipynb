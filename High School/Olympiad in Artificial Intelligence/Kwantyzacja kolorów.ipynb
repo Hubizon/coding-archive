{
  "cells": [
    {
      "cell_type": "markdown",
      "metadata": {},
      "source": [
        "# Kwantyzacja kolorów\n",
        "\n",
        "## Wstęp\n",
        "Standardowy kolorowy obraz rozmiarów $n \\times m$ jest reprezentowany przez $n \\cdot m \\cdot 3$ liczb całkowitych z przedziału $[0, 255]$. Daje to łącznie ponad 16 milionów możliwych kolorów. Kwantyzacja kolorów polega na drastycznym zredukowaniu liczby używanych kolorów w celu redukcji rozmiaru pliku, przy jednoczesnym jak najlepszym zachowaniu jakości obrazu.\n",
        "Najprostszą metodą kwantyzacji jest użycie metody $k$-means. Działa znakomicie jeśli chodzi o redukcję kolorów, jednak jej natura wpływa też na ostateczny wygląd obrazka:\n",
        "\n",
        "\n",
        "Metoda ([$k$-means](https://en.wikipedia.org/wiki/K-means_clustering)) kwantyzuje obraz minimalizując błąd średniokwadratowy ([mean squared error - MSE](https://en.wikipedia.org/wiki/Mean_squared_error)) pomiędzy oryginalnym a zrekonstruowanym obrazkiem. \n",
        "Jednakże zupełnie nie obchodzi jej jakich kolorów ostatecznie użyje. Okazuje się jednak, że jeśli narzucimy koszty użycia kolorów to będziemy w stanie wpłynąć na jakość kwantyzacji. Wtedy jednak metoda $k$-means nie będzie już optymalna.\n",
        "\n",
        "Zmiana metody kwantyzacji może więc wpłynąć na ostateczną jakość skwantyzowanego obrazu. I o tym właśnie jest poniższe zadanie.\n",
        "\n",
        "\n",
        "## Zadanie\n",
        "\n",
        "Celem zadania jest napisanie algorytmu klasteryzacji, który minimalizuje inną funkcję celu niż $k$-means.\n",
        "Na początek zdefiniujmy sobie *koszt koloru*. Kolor RGB rozumiemy jako wektor trójwymiarowy ze zbioru $[0,1,...,255]^3$, a koszt koloru $c$ zdefiniujemy jako\n",
        "odległość euklidesową od najbliższego \"prostego\" koloru w przestrzeni RGB, gdzie prostymi kolorami nazywamy: czarny $(0,0,0)$, biały $(255,255,255)$, czerwony $(255,0,0)$, zielony $(0,255,0)$, niebieski $(0,0,255)$, żółty $(255,255,0)$, magenta $(255,0,255)$ oraz cyjan $(0,255,255)$. Szczegóły znajdziesz w funkcji `color_cost`.\n",
        "Z tak zdefiniowaną funkcją kosztu najbardziej kosztowny kolor to $(127,127,127)$, czyli szary. \n",
        "Interpretacja tej funkcji kosztu jest więc taka, że będziemy chcieli wymusić na algorytmie kwantyzacji, aby preferował kolory, które są bardziej jaskrawe i żywe.\n",
        "\n",
        "Naszą funkcją celu będzie ważona suma poszczególnych składników:\n",
        "1. `MSE`: błąd średniokwadratowy pomiędzy oryginalnym a zrekonstruowanym obrazkiem --- ten składnik odpowiada za to, żeby skwantyzowany obraz był bliski oryginałowi.\n",
        "2. `max_color_cost`: największy z kosztów użytych kolorów --- ten składnik wzmacnia jaskrawość kolorów, poprzez kontrolę najmniej jaskrawego koloru.\n",
        "3. `mean_color_cost`: średni koszt koloru liczony po wszystkich pikselach --- ten składnik wymusza, aby użyte kolory były średnio odpowiednio jaskrawe.\n",
        "\n",
        "Ostatecznym kryterium jakości kwantyzacji będzie $$2\\cdot MSE  + 21\\cdot max\\_color\\_cost + 42\\cdot mean\\_color\\_cost.$$\n",
        "\n",
        "Powyższe kryterium i wszystkie funkcje, o których powyżej jest mowa, są zaimplementowane poniżej przez nas. \n",
        "\n",
        "W zadaniu zakładamy, że liczba kolorów jest z góry ustalona i wynosi $37$. Twój algorytm ma więc skwantyzować obraz na $37$ kolorów w taki sposób, aby zminimalizować powyższą funkcję celu.\n",
        "\n",
        "\n",
        "## Ograniczenia\n",
        "- W tym zadaniu możesz korzystać z GPU.\n",
        "- Twoja funkcja powinna zwracać 5 skwantyzowanych obrazów w maksymalnie 3 minuty używając Google Colab z GPU.\n",
        "- Zarówno oryginalny i skwantyzowany obrazek powinny być podane do funkcji ewaluacyjnej jako `np.array` typu `np.uint8` z wartościami z przedziału $[0, 255]$.\n",
        "\n",
        "## Uwagi i wskazówki\n",
        "- Każdy obrazek to indywidualny zbiór treningowy; podczas ewaluacji nie będą wczytywane żadne wagi wytrenowanych przez Ciebie modeli.\n",
        "- Będziesz pracować na obrazach wygenerowanych przez DALL-E oraz Stable Diffusion.\n",
        "- W funkcji `your_quantization_algorithm` należy ustawić seeda, aby wyniki otrzymane na zbiorze treningowym i walidacyjnym przenosiły się na testowy.\n",
        "\n",
        "## Pliki zgłoszeniowe\n",
        "Tylko ten notebook.\n",
        "\n",
        "## Ewaluacja\n",
        "Pamiętaj, że podczas sprawdzania flaga `FINAL_EVALUATION_MODE` zostanie ustawiona na `True`. Za pomocą skryptu `evaluation_script.py` będziesz mógł upewnić się, że Twoje rozwiązanie zostanie prawidłowo wykonane na naszych serwerach oceniających. \n",
        "\n",
        "Za to zadanie możesz zdobyć pomiędzy 0 i 1.5 punktu. Jeśli dostaniesz score powyżej 8900, to dostaniesz 0, a jeśli poniżej 8000, to dostaniesz 1.5 punktu. Pomiędzy tymi wartościami, Twój wynik maleje liniowo z wartością score.\n",
        "\n"
      ]
    },
    {
      "cell_type": "markdown",
      "metadata": {},
      "source": [
        "# Kod startowy"
      ]
    },
    {
      "cell_type": "code",
      "execution_count": 1,
      "metadata": {
        "id": "j0spRfiB7UNM"
      },
      "outputs": [],
      "source": [
        "######################### NIE ZMIENIAJ TEJ KOMÓRKI PODCZAS WYSYŁANIA ##########################\n",
        "FINAL_EVALUATION_MODE = False\n",
        "# W czasie sprawdzania Twojego rozwiązania, zmienimy tę wartość na True\n",
        "# Wartość tej flagi M U S I zostać ustawiona na False w rozwiązaniu, które nam nadeślesz!"
      ]
    },
    {
      "cell_type": "code",
      "execution_count": 2,
      "metadata": {
        "id": "-KICLMko6wAq"
      },
      "outputs": [],
      "source": [
        "######################### NIE ZMIENIAJ TEJ KOMÓRKI ##########################\n",
        "import os\n",
        "import numpy as np\n",
        "from PIL import Image\n",
        "import numpy as np\n",
        "import matplotlib.pyplot as plt\n",
        "import typing\n",
        "\n",
        "import glob"
      ]
    },
    {
      "cell_type": "markdown",
      "metadata": {},
      "source": [
        "## Ładowanie danych"
      ]
    },
    {
      "cell_type": "code",
      "execution_count": 3,
      "metadata": {},
      "outputs": [],
      "source": [
        "######################### NIE ZMIENIAJ TEJ KOMÓRKI ##########################\n",
        "\n",
        "# Klasa, która ułatwia wczytywanie obrazków z danego folderu\n",
        "class ImageDataset:\n",
        "    def __init__(self, image_dir: str):\n",
        "        self.filelist = glob.glob(image_dir + \"/*.jpg\")\n",
        "        self.IMAGE_DIMS = (512, 512)\n",
        "\n",
        "    def __len__(self):\n",
        "        return len(self.filelist)\n",
        "\n",
        "    def __getitem__(self, idx) -> np.ndarray:\n",
        "        with Image.open(self.filelist[idx]) as image:\n",
        "            image = image.convert('RGB')\n",
        "            image = image.resize(self.IMAGE_DIMS)\n",
        "            return np.array(image)\n",
        "\n",
        "    def __iter__(self) -> typing.Iterator[np.ndarray]:\n",
        "        return (self[i] for i in range(len(self.filelist)))"
      ]
    },
    {
      "cell_type": "markdown",
      "metadata": {
        "id": "YrSZKFqqF5qD"
      },
      "source": [
        "## Kod z kryterium oceniającym"
      ]
    },
    {
      "cell_type": "code",
      "execution_count": 4,
      "metadata": {
        "id": "GmjmlkgJMRCy"
      },
      "outputs": [],
      "source": [
        "######################### NIE ZMIENIAJ TEJ KOMÓRKI ##########################\n",
        "\n",
        "# Poniżej znajdziesz definicje MSE oraz kosztu użycia kolorów\n",
        "# Pamiętaj, żeby przy ewaluacji liczyć je w przestrzeni RGB, tzn. na wartościach całkowitych z przdziału [0, 255]\n",
        "# Skalowanie jest dopuszczalne tylko podczas treningu!\n",
        "\n",
        "# Zdefiniujmy kryterium oceny jakości kwantyzacji\n",
        "# Użyjemy do tego błędu średniokwadratowego (mean square error - MSE)\n",
        "def mse(img, img_quant):\n",
        "  return ((img_quant.astype(np.float32) - img.astype(np.float32))**2).mean()\n",
        "\n",
        "\n",
        "# Następnie zdefinujmy koszt użycia kolorów\n",
        "# Im bliżej danemu kolorowi do \"prostych\" kolorów, tym mniejszy koszt jego użycia\n",
        "def color_cost(img_quant):\n",
        "    vertices = np.array([\n",
        "        [0, 0, 0], [0, 0, 255], [0, 255, 0], [0, 255, 255],\n",
        "        [255, 0, 0], [255, 0, 255], [255, 255, 0], [255, 255, 255]\n",
        "    ])\n",
        "    \n",
        "    pixels = img_quant.reshape(-1,3)\n",
        "    \n",
        "    differences = pixels[:, np.newaxis, :] - vertices[np.newaxis, :, :]\n",
        "    squared_distances = np.sum(differences**2, axis=2)\n",
        "    costs = np.sqrt(np.min(squared_distances, axis=1))\n",
        "\n",
        "    return np.mean(costs), np.max(costs)\n",
        "\n",
        "\n",
        "# Całkowite kryterium zdefiniowane w treści zadania\n",
        "def quantization_score(img, img_quant):\n",
        "    assert img.dtype == np.uint8\n",
        "    assert img_quant.dtype == np.uint8\n",
        "    assert len(np.unique(img_quant.reshape(-1,3), axis=0)) == 37\n",
        "       \n",
        "    mse_cost = mse(img, img_quant)\n",
        "    mean_color_cost, max_color_cost = color_cost(img_quant)\n",
        "    score = mse_cost * 2 + max_color_cost * 21 + mean_color_cost * 42\n",
        "    print(f'MSE: {mse_cost:.4f}, max_color_cost: {max_color_cost:.4f}, mean_color_cost: {mean_color_cost:.4f}')\n",
        "    print(f'Score: {score:.4f}')\n",
        "    return score"
      ]
    },
    {
      "cell_type": "markdown",
      "metadata": {
        "id": "SDZQ4h5SMIQ-"
      },
      "source": [
        "# Twoje rozwiązanie"
      ]
    },
    {
      "cell_type": "markdown",
      "metadata": {},
      "source": [
        "Ta sekcja to miejsce na Twoje rozwiązanie. Tylko tutaj powinieneś wprowadzać zmiany!"
      ]
    },
    {
      "cell_type": "code",
      "execution_count": 5,
      "metadata": {},
      "outputs": [],
      "source": [
        "# Hubert Jastrzębski - V LO Kraków\n",
        "\n",
        "from sklearn.cluster import KMeans\n",
        "from copy import deepcopy\n",
        "\n",
        "np.random.seed(42)"
      ]
    },
    {
      "cell_type": "code",
      "execution_count": 6,
      "metadata": {},
      "outputs": [],
      "source": [
        "def move_color(color, alpha):\n",
        "    res = [c + alpha * (255 - c if c > 128 else -int(c)) for c in color]\n",
        "    return res\n",
        "\n",
        "\n",
        "def your_quantization_algorithm(img):\n",
        "    pixels = deepcopy(img).reshape(-1, 3)\n",
        "\n",
        "    alpha = 0.4\n",
        "    for i, pixel in enumerate(pixels):\n",
        "        pixels[i] = move_color(pixel, alpha)\n",
        "\n",
        "    kmeans = KMeans(n_clusters=37, random_state=42).fit(pixels)\n",
        "    colors = kmeans.cluster_centers_\n",
        "    labels = kmeans.predict(pixels)\n",
        "\n",
        "    quantized_image = colors[labels].reshape(img.shape)\n",
        "\n",
        "    return quantized_image.astype(np.uint8)"
      ]
    },
    {
      "cell_type": "markdown",
      "metadata": {},
      "source": [
        "# Ewaluacja\n",
        "\n",
        "Poniższy kod będzie służył ewaluacji rozwiązania. Po wysłaniu rozwiązania do nas zostanie wykonana funkcja `evaluate_algorithm(your_quantization_algorithm, 'test_data')`, t.j. prawie identyczny kod jak niżej będzie się uruchamiał na katalogu zdjęć `test_data` dostępnym tylko dla sprawdzających zadania.\n",
        "\n",
        "Upewnij się przed wysłaniem, że cały notebook wykonuje się od początku do końca bez błędów i bez ingerencji użytkownika po wykonaniu polecenia `Run All`."
      ]
    },
    {
      "cell_type": "code",
      "execution_count": 7,
      "metadata": {},
      "outputs": [],
      "source": [
        "# Wyświetl zestawienie oryginału i zkwantyzowanego obrazka\n",
        "def show_quantization_results(original, quantized):\n",
        "        _, ax = plt.subplots(1, 2, figsize=(8, 4))\n",
        "        ax[0].imshow(original)\n",
        "        ax[0].set_title(\"Oryginał\")\n",
        "        ax[0].axis(\"off\")\n",
        "\n",
        "        ax[1].imshow(quantized)\n",
        "        ax[1].set_title(\"Wynik kwantyzacji\")\n",
        "        ax[1].axis(\"off\")\n",
        "        plt.show()"
      ]
    },
    {
      "cell_type": "code",
      "execution_count": 8,
      "metadata": {},
      "outputs": [],
      "source": [
        "def evaluate_algorithm(quantization_algorithm, data_dir):\n",
        "    dataset = ImageDataset(data_dir)\n",
        "    scores = []\n",
        "    for image in dataset:\n",
        "        quantized_image = quantization_algorithm(image)\n",
        "        show_quantization_results(image, quantized_image)\n",
        "        score = quantization_score(image, quantized_image)\n",
        "        scores.append(score)\n",
        "    return np.mean(scores)"
      ]
    },
    {
      "cell_type": "code",
      "execution_count": null,
      "metadata": {},
      "outputs": [],
      "source": [
        "if not FINAL_EVALUATION_MODE:\n",
        "    print(f\"Finałowy wynik to: {evaluate_algorithm(your_quantization_algorithm, 'valid_data'):.4f}\")"
      ]
    },
    {
      "cell_type": "code",
      "execution_count": null,
      "metadata": {},
      "outputs": [],
      "source": []
    }
  ],
  "metadata": {
    "accelerator": "GPU",
    "colab": {
      "gpuType": "T4",
      "provenance": []
    },
    "kernelspec": {
      "display_name": "Python 3",
      "name": "python3"
    },
    "language_info": {
      "codemirror_mode": {
        "name": "ipython",
        "version": 3
      },
      "file_extension": ".py",
      "mimetype": "text/x-python",
      "name": "python",
      "nbconvert_exporter": "python",
      "pygments_lexer": "ipython3",
      "version": "3.11.0rc1"
    }
  },
  "nbformat": 4,
  "nbformat_minor": 0
}
